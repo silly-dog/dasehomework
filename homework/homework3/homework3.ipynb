{
 "cells": [
  {
   "cell_type": "markdown",
   "id": "777b0b49-ad70-405d-b7f6-3c1ddaa79c15",
   "metadata": {},
   "source": [
    "1.编写 Python程序,判断输入a是否为质数"
   ]
  },
  {
   "cell_type": "code",
   "execution_count": 1,
   "id": "bb851603-f5a0-4206-8cea-746fac621c24",
   "metadata": {},
   "outputs": [
    {
     "name": "stdin",
     "output_type": "stream",
     "text": [
      "请输入一个整数： 13\n"
     ]
    },
    {
     "name": "stdout",
     "output_type": "stream",
     "text": [
      "13 是质数。\n"
     ]
    }
   ],
   "source": [
    "def is_prime(a):\n",
    "    if a <= 1:\n",
    "        return False\n",
    "    if a <= 3:\n",
    "        return True\n",
    "    if a % 2 == 0 or a % 3 == 0:\n",
    "        return False\n",
    "    i = 5\n",
    "    while i * i <= a:\n",
    "        if a % i == 0 or a % (i + 2) == 0:\n",
    "            return False\n",
    "        i += 6\n",
    "    return True\n",
    "\n",
    "a = int(input(\"请输入一个整数：\"))\n",
    "if is_prime(a):\n",
    "    print(f\"{a} 是质数。\")\n",
    "else:\n",
    "    print(f\"{a} 不是质数。\")"
   ]
  },
  {
   "cell_type": "markdown",
   "id": "c2dd7f97-7362-47bb-ad5f-efd54f61f95a",
   "metadata": {},
   "source": [
    "2.用Python实现插入排序该算法，不允许直接调用插入排序函数，需要手动实现其逻辑过程。"
   ]
  },
  {
   "cell_type": "code",
   "execution_count": 2,
   "id": "021fa362-3e5a-4bfa-b264-091975d3f954",
   "metadata": {},
   "outputs": [
    {
     "name": "stdin",
     "output_type": "stream",
     "text": [
      "请输入一个数组： 3 4 1 2\n"
     ]
    },
    {
     "name": "stdout",
     "output_type": "stream",
     "text": [
      "排序后的数组： [1, 2, 3, 4]\n"
     ]
    }
   ],
   "source": [
    "def insertion_sort(arr):\n",
    "    # 遍历数组，从第二个元素开始，因为第一个元素默认是已排序的\n",
    "    for i in range(1, len(arr)):\n",
    "        key = arr[i]\n",
    "        j = i - 1\n",
    "        # 将选中的元素与已排序序列中的元素从后向前比较，找到合适的插入位置\n",
    "        while j >= 0 and key < arr[j]:\n",
    "            arr[j + 1] = arr[j]\n",
    "            j -= 1\n",
    "        # 插入元素到找到的位置\n",
    "        arr[j + 1] = key\n",
    "\n",
    "# 输入一个列表\n",
    "arr = [int(x) for x in input(\"请输入一个数组：\").split()]\n",
    "insertion_sort(arr)\n",
    "print(\"排序后的数组：\", arr)"
   ]
  },
  {
   "cell_type": "markdown",
   "id": "d19f3e03-8a4c-438b-9cea-1908bced8d2e",
   "metadata": {},
   "source": [
    "3.用Python实现选择排序该算法，不允许直接调用选择排序函数，需要手动实现其逻辑过程。"
   ]
  },
  {
   "cell_type": "code",
   "execution_count": 3,
   "id": "0ee0714a-2544-4fef-869d-86eabe766c2a",
   "metadata": {},
   "outputs": [
    {
     "name": "stdin",
     "output_type": "stream",
     "text": [
      "请输入一个数组： 3 4 1 2\n"
     ]
    },
    {
     "name": "stdout",
     "output_type": "stream",
     "text": [
      "排序后的数组： [1, 2, 3, 4]\n"
     ]
    }
   ],
   "source": [
    "def selection_sort(arr):\n",
    "    n = len(arr)\n",
    "    # 遍历数组，每次遍历找到最小值的索引\n",
    "    for i in range(n):\n",
    "        # 假设当前位置为最小值\n",
    "        min_index = i\n",
    "        for j in range(i+1, n):\n",
    "            # 如果发现更小的值，更新最小值的索引\n",
    "            if arr[j] < arr[min_index]:\n",
    "                min_index = j\n",
    "        # 交换当前位置和最小值的位置\n",
    "        arr[i], arr[min_index] = arr[min_index], arr[i]\n",
    "\n",
    "# 输入一个列表\n",
    "arr = [int(x) for x in input(\"请输入一个数组：\").split()]\n",
    "selection_sort(arr)\n",
    "print(\"排序后的数组：\", arr)"
   ]
  },
  {
   "cell_type": "markdown",
   "id": "40d6bc99-3109-46ed-bda0-cba313fdec22",
   "metadata": {},
   "source": [
    "\n",
    "4.用Python实现快速排序该算法，不允许直接调用快速排序函数，需要手动实现其逻辑过程。"
   ]
  },
  {
   "cell_type": "code",
   "execution_count": 4,
   "id": "c53dcadf-c945-412c-9b92-22159c61b3db",
   "metadata": {},
   "outputs": [
    {
     "name": "stdin",
     "output_type": "stream",
     "text": [
      "请输入一个数组： 3 4 1 2\n"
     ]
    },
    {
     "name": "stdout",
     "output_type": "stream",
     "text": [
      "排序后的数组： [1, 2, 3, 4]\n"
     ]
    }
   ],
   "source": [
    "def quick_sort(arr):\n",
    "    if len(arr) <= 1:\n",
    "        return arr\n",
    "    else:\n",
    "        pivot = arr[0]\n",
    "        less = [x for x in arr[1:] if x <= pivot]\n",
    "        greater = [x for x in arr[1:] if x > pivot]\n",
    "        return quick_sort(less) + [pivot] + quick_sort(greater)\n",
    "\n",
    "# 输入一个列表\n",
    "arr = [int(x) for x in input(\"请输入一个数组：\").split()]\n",
    "sorted_arr = quick_sort(arr)\n",
    "print(\"排序后的数组：\", sorted_arr)"
   ]
  },
  {
   "cell_type": "markdown",
   "id": "40d2b0c4-9b55-4777-9520-7f9ed06b9d58",
   "metadata": {},
   "source": [
    "5.使用 Python 随机生成三组长度递增的随机数列，长度分别为100、1000、10000，对生成的随机数组使用不同的排序算法，例如选择排序和归并排序，至少三种排序方法。对这些数列的数据排序，并分析不同排序算法在不同长度数列下的运行效果，例如运行时间等指标。（可以使用排序函数）"
   ]
  },
  {
   "cell_type": "code",
   "execution_count": 5,
   "id": "c79bb497-c014-40ef-9abd-f0da6dcd963c",
   "metadata": {},
   "outputs": [
    {
     "name": "stdout",
     "output_type": "stream",
     "text": [
      "Length: 100\n",
      "Selection Sort: 0.001004 seconds\n",
      "Merge Sort: 0.000000 seconds\n",
      "Quick Sort: 0.000000 seconds\n",
      "\n",
      "Length: 1000\n",
      "Selection Sort: 0.062907 seconds\n",
      "Merge Sort: 0.003958 seconds\n",
      "Quick Sort: 0.004000 seconds\n",
      "\n",
      "Length: 10000\n",
      "Selection Sort: 6.051838 seconds\n",
      "Merge Sort: 0.062146 seconds\n",
      "Quick Sort: 0.044667 seconds\n",
      "\n"
     ]
    }
   ],
   "source": [
    "import random\n",
    "import time\n",
    "\n",
    "# 生成随机数列\n",
    "def generate_random_list(n):\n",
    "    return [random.randint(1, 10000) for _ in range(n)]\n",
    "\n",
    "# 选择排序\n",
    "def selection_sort(arr):\n",
    "    for i in range(len(arr)):\n",
    "        min_idx = i\n",
    "        for j in range(i+1, len(arr)):\n",
    "            if arr[j] < arr[min_idx]:\n",
    "                min_idx = j\n",
    "        arr[i], arr[min_idx] = arr[min_idx], arr[i]\n",
    "\n",
    "# 归并排序\n",
    "def merge_sort(arr):\n",
    "    if len(arr) > 1:\n",
    "        mid = len(arr) // 2\n",
    "        L = arr[:mid]\n",
    "        R = arr[mid:]\n",
    "\n",
    "        merge_sort(L)\n",
    "        merge_sort(R)\n",
    "\n",
    "        i = j = k = 0\n",
    "\n",
    "        while i < len(L) and j < len(R):\n",
    "            if L[i] < R[j]:\n",
    "                arr[k] = L[i]\n",
    "                i += 1\n",
    "            else:\n",
    "                arr[k] = R[j]\n",
    "                j += 1\n",
    "            k += 1\n",
    "\n",
    "        while i < len(L):\n",
    "            arr[k] = L[i]\n",
    "            i += 1\n",
    "            k += 1\n",
    "\n",
    "        while j < len(R):\n",
    "            arr[k] = R[j]\n",
    "            j += 1\n",
    "            k += 1\n",
    "\n",
    "# 快速排序\n",
    "def quick_sort(arr):\n",
    "    if len(arr) <= 1:\n",
    "        return arr\n",
    "    else:\n",
    "        pivot = arr[0]\n",
    "        less = [x for x in arr[1:] if x < pivot]\n",
    "        equal = [x for x in arr[1:] if x == pivot]\n",
    "        greater = [x for x in arr[1:] if x > pivot]\n",
    "        return quick_sort(less) + equal + quick_sort(greater)\n",
    "\n",
    "# 测量排序算法的运行时间\n",
    "def measure_sorting_time(sort_func, arr):\n",
    "    start_time = time.time()\n",
    "    sort_func(arr)\n",
    "    end_time = time.time()\n",
    "    return end_time - start_time\n",
    "\n",
    "# 生成随机数列并排序\n",
    "def sort_and_measure(lengths):\n",
    "    results = {}\n",
    "    for length in lengths:\n",
    "        random_list = generate_random_list(length)\n",
    "        results[length] = {\n",
    "            \"Selection Sort\": measure_sorting_time(selection_sort, random_list[:]),  # Pass a copy of the list\n",
    "            \"Merge Sort\": measure_sorting_time(merge_sort, random_list[:]),\n",
    "            \"Quick Sort\": measure_sorting_time(lambda arr: quick_sort(arr[:]), random_list)  # Pass a copy of the list\n",
    "        }\n",
    "    return results\n",
    "\n",
    "# 定义长度\n",
    "lengths = [100, 1000, 10000]\n",
    "\n",
    "# 执行排序并打印结果\n",
    "results = sort_and_measure(lengths)\n",
    "for length, times in results.items():\n",
    "    print(f\"Length: {length}\")\n",
    "    for sort_name, time in times.items():\n",
    "        print(f\"{sort_name}: {time:.6f} seconds\")\n",
    "    print()\n"
   ]
  },
  {
   "cell_type": "markdown",
   "id": "2bf4cb31-b689-48ca-a45b-84d423ce1c76",
   "metadata": {},
   "source": [
    "6.使用python代码获取当前系统时间"
   ]
  },
  {
   "cell_type": "code",
   "execution_count": 6,
   "id": "04e35973-0b0f-4290-8508-566e1a2b5e00",
   "metadata": {},
   "outputs": [
    {
     "name": "stdout",
     "output_type": "stream",
     "text": [
      "当前日期和时间： 2024-11-12 15:01:25.404960\n"
     ]
    }
   ],
   "source": [
    "from datetime import datetime\n",
    "# 获取当前日期和时间\n",
    "now = datetime.now()\n",
    "# 打印当前日期和时间\n",
    "print(\"当前日期和时间：\", now)"
   ]
  },
  {
   "cell_type": "markdown",
   "id": "f11759a0-1189-4d48-9955-aafcc3c8648d",
   "metadata": {},
   "source": [
    "7.Homework/data文件夹下的stuGrade.csv文件中包含5位同学的学号、语文成绩、数学成绩和英语成绩，请先用记事本打开该文件，查看文件内容，然后编写Python程序，读取该文件，并计算出各科的平均成绩（保留2位小数）。"
   ]
  },
  {
   "cell_type": "code",
   "execution_count": 7,
   "id": "bccafaba-6361-4007-a27e-047809c36f1e",
   "metadata": {},
   "outputs": [
    {
     "name": "stdout",
     "output_type": "stream",
     "text": [
      "语文平均成绩：82.6\n",
      "数学平均成绩：81.0\n",
      "英语平均成绩：81.8\n"
     ]
    }
   ],
   "source": [
    "import csv\n",
    "# 初始化科目成绩列表\n",
    "chinese_scores = []\n",
    "math_scores = []\n",
    "english_scores = []\n",
    "# 读取CSV文件\n",
    "with open('stuGrade.csv', mode='r', encoding='utf-8') as file:\n",
    "    reader = csv.DictReader(file)\n",
    "    for row in reader:\n",
    "        chinese_scores.append(float(row['chinese']))\n",
    "        math_scores.append(float(row['math']))\n",
    "        english_scores.append(float(row['english']))\n",
    "# 计算平均成绩\n",
    "average_chinese = round(sum(chinese_scores) / len(chinese_scores), 2)\n",
    "average_math = round(sum(math_scores) / len(math_scores), 2)\n",
    "average_english = round(sum(english_scores) / len(english_scores), 2)\n",
    "# 打印平均成绩\n",
    "print(f\"语文平均成绩：{average_chinese}\")\n",
    "print(f\"数学平均成绩：{average_math}\")\n",
    "print(f\"英语平均成绩：{average_english}\")"
   ]
  },
  {
   "cell_type": "markdown",
   "id": "9d174791-13d6-41af-a999-52945779dbbe",
   "metadata": {},
   "source": [
    "8.请在第7题的代码继续编写Python程序，将以下内容写入my.txt文件中，一并上传到github中。\r\n",
    "\r\n",
    "第1行：你的学号和姓名\r\n",
    "\r\n",
    "第2行：3门课程的平均成绩（任意课程），保留2位小数，以英文逗号间隔\r\n",
    "\r\n",
    "第3行：系统当前时间，格式例如2020-01-01 12:00:00\r\n",
    "\r\n",
    "第4行：两秒后的系统当前时间（利用sleep()方法）"
   ]
  },
  {
   "cell_type": "code",
   "execution_count": 8,
   "id": "c6260a9b-bf1a-4eb4-87de-df57f0eb59c3",
   "metadata": {},
   "outputs": [],
   "source": [
    "import csv\n",
    "from datetime import datetime\n",
    "import time\n",
    "\n",
    "# 初始化科目成绩列表\n",
    "chinese_scores = []\n",
    "math_scores = []\n",
    "english_scores = []\n",
    "# 读取CSV文件\n",
    "with open('stuGrade.csv', mode='r', encoding='utf-8') as file:\n",
    "    reader = csv.DictReader(file)\n",
    "    for row in reader:\n",
    "        chinese_scores.append(float(row['chinese']))\n",
    "        math_scores.append(float(row['math']))\n",
    "        english_scores.append(float(row['english']))\n",
    "# 计算平均成绩\n",
    "average_chinese = round(sum(chinese_scores) / len(chinese_scores), 2)\n",
    "average_math = round(sum(math_scores) / len(math_scores), 2)\n",
    "average_english = round(sum(english_scores) / len(english_scores), 2)\n",
    "# 写入my.txt文件\n",
    "with open('my.txt', mode='w', encoding='utf-8') as file:\n",
    "    # 写入学号和姓名\n",
    "    file.write(\"学号: 10235501427, 姓名: 章雨杭\\n\")\n",
    "    # 写入任意一门课程的平均成绩\n",
    "    file.write(f\"{average_chinese:.2f}, {average_math:.2f}, {average_english:.2f}\\n\")\n",
    "    # 写入系统当前时间\n",
    "    now = datetime.now().strftime(\"%Y-%m-%d %H:%M:%S\")\n",
    "    file.write(now + \"\\n\")\n",
    "    # 等待两秒\n",
    "    time.sleep(2)\n",
    "    # 再次写入系统当前时间\n",
    "    now = datetime.now().strftime(\"%Y-%m-%d %H:%M:%S\")\n",
    "    file.write(now + \"\\n\")\n"
   ]
  },
  {
   "cell_type": "code",
   "execution_count": null,
   "id": "66757596-092c-41b6-9402-308895f4c66e",
   "metadata": {},
   "outputs": [],
   "source": []
  }
 ],
 "metadata": {
  "kernelspec": {
   "display_name": "Python 3 (ipykernel)",
   "language": "python",
   "name": "python3"
  },
  "language_info": {
   "codemirror_mode": {
    "name": "ipython",
    "version": 3
   },
   "file_extension": ".py",
   "mimetype": "text/x-python",
   "name": "python",
   "nbconvert_exporter": "python",
   "pygments_lexer": "ipython3",
   "version": "3.11.7"
  }
 },
 "nbformat": 4,
 "nbformat_minor": 5
}
