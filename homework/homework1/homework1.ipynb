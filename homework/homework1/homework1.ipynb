{
 "cells": [
  {
   "cell_type": "markdown",
   "id": "ed9af6a4-dfe6-41c7-b318-4a9d0115eaf1",
   "metadata": {},
   "source": [
    "1.编写Python程序，打印\"数据科学与工程导论\"，并使用 print(chr(0x2605)) 语句将这句话包围起来。"
   ]
  },
  {
   "cell_type": "code",
   "execution_count": 1,
   "id": "c6491fcc-111b-4732-91b3-6b608546a776",
   "metadata": {},
   "outputs": [
    {
     "name": "stdout",
     "output_type": "stream",
     "text": [
      "★ 数据科学与工程导论 ★\n"
     ]
    }
   ],
   "source": [
    "print(chr(0x2605),end=\" \")\n",
    "print(\"数据科学与工程导论\",end=\" \")\n",
    "print(chr(0x2605))"
   ]
  },
  {
   "cell_type": "markdown",
   "id": "59cce197-08f5-4902-bd0c-f5627ef910f6",
   "metadata": {},
   "source": [
    "2.写一个 Python 程序，输入 x, y, z 这三个数，将这三个数从小到大使用 print 函数打印出来。"
   ]
  },
  {
   "cell_type": "code",
   "execution_count": 2,
   "id": "f9de199d-2372-452a-90a2-cf69caeb101c",
   "metadata": {},
   "outputs": [
    {
     "name": "stdin",
     "output_type": "stream",
     "text": [
      "请输入x 3\n",
      "请输入y 523\n",
      "请输入z 33\n"
     ]
    },
    {
     "name": "stdout",
     "output_type": "stream",
     "text": [
      "[3.0, 33.0, 523.0]\n"
     ]
    }
   ],
   "source": [
    "x=float(input(\"请输入x\"))\n",
    "y=float(input(\"请输入y\"))\n",
    "z=float(input(\"请输入z\"))\n",
    "num=[x,z,y]\n",
    "num.sort()\n",
    "print(num)"
   ]
  },
  {
   "cell_type": "markdown",
   "id": "7d70b970-a176-49f9-8642-4cf936a09415",
   "metadata": {},
   "source": [
    "3.写一个 Python 程序，有 w, x, y, z 四个数，将这四个数从大到小使用 print 函数打印出来。"
   ]
  },
  {
   "cell_type": "code",
   "execution_count": 3,
   "id": "03ea2e7f-bca7-4f79-86be-f5082eb262c5",
   "metadata": {},
   "outputs": [
    {
     "name": "stdin",
     "output_type": "stream",
     "text": [
      "请输入x 1\n",
      "请输入y 3\n",
      "请输入z 4\n",
      "请输入w 32\n"
     ]
    },
    {
     "name": "stdout",
     "output_type": "stream",
     "text": [
      "[32.0, 4.0, 3.0, 1.0]\n"
     ]
    }
   ],
   "source": [
    "x=float(input(\"请输入x\"))\n",
    "y=float(input(\"请输入y\"))\n",
    "z=float(input(\"请输入z\"))\n",
    "w=float(input(\"请输入w\"))\n",
    "num=[x,z,y,w]\n",
    "num.sort(reverse=True)\n",
    "print(num)"
   ]
  },
  {
   "cell_type": "markdown",
   "id": "384b5ec7-23a8-4f28-9855-6702f81c5ef1",
   "metadata": {},
   "source": [
    "4.写一个 Python 程序，输出 1-100 中的所有奇数。"
   ]
  },
  {
   "cell_type": "code",
   "execution_count": 4,
   "id": "f57b93dd-cc6b-402f-ad40-62b317197c86",
   "metadata": {},
   "outputs": [
    {
     "name": "stdout",
     "output_type": "stream",
     "text": [
      "1\n",
      "3\n",
      "5\n",
      "7\n",
      "9\n",
      "11\n",
      "13\n",
      "15\n",
      "17\n",
      "19\n",
      "21\n",
      "23\n",
      "25\n",
      "27\n",
      "29\n",
      "31\n",
      "33\n",
      "35\n",
      "37\n",
      "39\n",
      "41\n",
      "43\n",
      "45\n",
      "47\n",
      "49\n",
      "51\n",
      "53\n",
      "55\n",
      "57\n",
      "59\n",
      "61\n",
      "63\n",
      "65\n",
      "67\n",
      "69\n",
      "71\n",
      "73\n",
      "75\n",
      "77\n",
      "79\n",
      "81\n",
      "83\n",
      "85\n",
      "87\n",
      "89\n",
      "91\n",
      "93\n",
      "95\n",
      "97\n",
      "99\n"
     ]
    }
   ],
   "source": [
    "for num in range(1,101):\n",
    "    if num%2!=0:\n",
    "        print(num)"
   ]
  },
  {
   "cell_type": "markdown",
   "id": "e5edfd9c-0128-45e9-b843-544c02e62b62",
   "metadata": {},
   "source": [
    "5.\n",
    "写一个 Python 程序，用 for 循环，求解 1 到 100 的和。"
   ]
  },
  {
   "cell_type": "code",
   "execution_count": 5,
   "id": "b123d2f9-39fc-4139-8f75-7143f31362d6",
   "metadata": {},
   "outputs": [
    {
     "name": "stdout",
     "output_type": "stream",
     "text": [
      "5050\n"
     ]
    }
   ],
   "source": [
    "total=0\n",
    "for num in range(1,101):\n",
    "    total=total+num\n",
    "print(total)"
   ]
  },
  {
   "cell_type": "markdown",
   "id": "84c65a65-a79f-405a-9f32-59173497e5ad",
   "metadata": {},
   "source": [
    "6.写一个 Python 程序，分别用 for 和 while 循环实现对一个给定序列的倒排序输出。例如，给定 L=[1,2,3,4,5]，输出为 [5,4,3,2,1]。"
   ]
  },
  {
   "cell_type": "code",
   "execution_count": 6,
   "id": "92c52038-ceb3-46fd-9f33-6f4bc452852f",
   "metadata": {},
   "outputs": [
    {
     "name": "stdout",
     "output_type": "stream",
     "text": [
      "5 4 3 2 1 \n",
      "5 4 3 2 1 \n"
     ]
    }
   ],
   "source": [
    "L = [1, 2, 3, 4, 5]\n",
    "\n",
    "# 使用 for 循环倒序输出\n",
    "for i in range(len(L) - 1, -1, -1):\n",
    "    print(L[i], end=' ')\n",
    "print()\n",
    "\n",
    "# 使用 while 循环倒序输出\n",
    "index = len(L) - 1\n",
    "while index >= 0:\n",
    "    print(L[index], end=' ')\n",
    "    index -= 1\n",
    "print()"
   ]
  },
  {
   "cell_type": "markdown",
   "id": "e2e1f9df-c388-4034-8eda-27e6267c96c3",
   "metadata": {},
   "source": [
    "7.写一个 Python 程序，判断一个输入的字符串 S 是否包含由两个或两个以上连续出现的相同字符组成的字符串。例如，abccccda 中就包含 cccc 这个由 4 个连续字符组成的字符串。"
   ]
  },
  {
   "cell_type": "code",
   "execution_count": 7,
   "id": "90be2c1b-a72b-4a1b-a415-b26812320a3f",
   "metadata": {},
   "outputs": [
    {
     "name": "stdin",
     "output_type": "stream",
     "text": [
      "请输入字符串： hallo\n"
     ]
    },
    {
     "name": "stdout",
     "output_type": "stream",
     "text": [
      "yes\n"
     ]
    }
   ],
   "source": [
    "def find(S):\n",
    "    for i in range(len(S)-1):\n",
    "        if S[i]==S[i+1]:\n",
    "            return True\n",
    "    return False\n",
    "S=input(\"请输入字符串：\")\n",
    "if find(S):\n",
    "    print(\"yes\")\n",
    "else:\n",
    "    print(\"no\")\n"
   ]
  },
  {
   "cell_type": "markdown",
   "id": "ee8fd817-f5da-446a-9d09-cb2b2573dd3a",
   "metadata": {},
   "source": [
    "8.写一个 Python 程序，输入一个字符串 S，去掉其中所有的空格后输出。例如，“DataScience and Engineering”，去掉空格后为“DataScienceandEngineering”。"
   ]
  },
  {
   "cell_type": "code",
   "execution_count": 8,
   "id": "12566c9c-ee43-4f7c-9845-9eae3a14f217",
   "metadata": {},
   "outputs": [
    {
     "name": "stdin",
     "output_type": "stream",
     "text": [
      "请输入字符串： hallo world\n"
     ]
    },
    {
     "name": "stdout",
     "output_type": "stream",
     "text": [
      "halloworld\n"
     ]
    }
   ],
   "source": [
    "S = input(\"请输入字符串：\")\n",
    "Sfinal = S.replace(\" \",\"\")\n",
    "print(Sfinal)"
   ]
  },
  {
   "cell_type": "markdown",
   "id": "47250907-155a-4b74-a9ab-aa5f548c0129",
   "metadata": {},
   "source": [
    "9.请设计一个求 3 次方根的算法（不允许直接调用求方根的函数），并给出对应的 Python 程序，采用牛顿迭代法求解。"
   ]
  },
  {
   "cell_type": "code",
   "execution_count": 9,
   "id": "3b43f742-31f3-4d2c-899b-7ce0e7d219f2",
   "metadata": {},
   "outputs": [
    {
     "name": "stdout",
     "output_type": "stream",
     "text": [
      "找到的根为: 3.0\n"
     ]
    }
   ],
   "source": [
    "x_n = 3.0 \n",
    "tolerance = 1e-7\n",
    "max_iterations = 1000\n",
    "\n",
    "# 开始迭代\n",
    "for i in range(max_iterations):\n",
    "    # 定义三次方程 f(x) 和它的导数 f'(x)\n",
    "    f_x_n = x_n**3 - 6*x_n**2 + 11*x_n - 6\n",
    "    f_prime_x_n = 3*x_n**2 - 12*x_n + 11\n",
    "    # 避免导数为零的情况\n",
    "    if f_prime_x_n == 0:\n",
    "        print(\"导数为零，无法找到解。\")\n",
    "        break\n",
    "    x_next = x_n - f_x_n / f_prime_x_n\n",
    "    if abs(x_next - x_n) < tolerance:\n",
    "        print(f\"找到的根为: {x_next}\")\n",
    "        break\n",
    "    x_n = x_next\n",
    "else:\n",
    "    print(\"超过最大迭代次数，未找到解。\")\n"
   ]
  },
  {
   "cell_type": "markdown",
   "id": "86a8a723-6812-483a-8a28-1dfe2591eb7a",
   "metadata": {},
   "source": [
    "10.写一个 Python 程序，给定一个常数 n（n>0），求 n 的阶乘，即 n!=1×2×...×(n-1)×n。例如，4!=24，5!=120。"
   ]
  },
  {
   "cell_type": "code",
   "execution_count": 10,
   "id": "17b60124-80c8-46cb-b786-d3a614591bf0",
   "metadata": {},
   "outputs": [
    {
     "name": "stdin",
     "output_type": "stream",
     "text": [
      "请输入一个正整数 n:  231\n"
     ]
    },
    {
     "name": "stdout",
     "output_type": "stream",
     "text": [
      "231! = 1792233667382633521618843263044232513197622942259968207385215805123682159320161029848328112148883186161436034535802659466205111867109614573242316954383604389464524535467759401326264883566523043560811873179996072188155290081861628010250468430411854935707396605833540921031884571521279145124581094374547412403086564118143957940727734634769439112260383017302489106932716079961487372942529947238400000000000000000000000000000000000000000000000000000000\n"
     ]
    }
   ],
   "source": [
    "# 输入一个正整数 n\n",
    "n = int(input(\"请输入一个正整数 n: \"))\n",
    "\n",
    "if n < 0:\n",
    "    print(\"请输入一个大于 0 的整数\")\n",
    "else:\n",
    "    # 初始化阶乘结果为 1\n",
    "    factorial = 1\n",
    "    # 计算阶乘\n",
    "    for i in range(1, n + 1):\n",
    "        factorial *= i\n",
    "    print(f\"{n}! = {factorial}\")\n"
   ]
  },
  {
   "cell_type": "code",
   "execution_count": null,
   "id": "2ff853e7-8704-459a-940d-f044ffc14f0a",
   "metadata": {},
   "outputs": [],
   "source": []
  }
 ],
 "metadata": {
  "kernelspec": {
   "display_name": "Python 3 (ipykernel)",
   "language": "python",
   "name": "python3"
  },
  "language_info": {
   "codemirror_mode": {
    "name": "ipython",
    "version": 3
   },
   "file_extension": ".py",
   "mimetype": "text/x-python",
   "name": "python",
   "nbconvert_exporter": "python",
   "pygments_lexer": "ipython3",
   "version": "3.11.7"
  }
 },
 "nbformat": 4,
 "nbformat_minor": 5
}
