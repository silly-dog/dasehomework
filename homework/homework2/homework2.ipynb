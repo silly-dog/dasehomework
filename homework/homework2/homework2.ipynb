{
 "cells": [
  {
   "cell_type": "markdown",
   "id": "7e283d34-3bdf-4c9a-a1d3-6f6174490e1a",
   "metadata": {},
   "source": [
    "1. 编写 Python 程序，求两个正整数的最大公约数。"
   ]
  },
  {
   "cell_type": "code",
   "execution_count": null,
   "id": "4c1cb676-6f5c-417e-8ec3-b3b0745dd3da",
   "metadata": {},
   "outputs": [],
   "source": [
    "def gcd(a, b):\n",
    "    while b != 0:\n",
    "        a, b = b, a % b\n",
    "    return a\n",
    "\n",
    "num1 = 48\n",
    "num2 = 18\n",
    "print(\"最大公约数是:\", gcd(num1, num2))"
   ]
  },
  {
   "cell_type": "markdown",
   "id": "042100c2-2e43-4b92-989c-65cad201c3a3",
   "metadata": {},
   "source": [
    "2. 用if语句实现百分制转等级制（考试成绩，60分以下不合格，60—74分合格，75—89分为良好，90分以上为优秀）。"
   ]
  },
  {
   "cell_type": "code",
   "execution_count": null,
   "id": "7b974e44-be3f-4d60-be2f-e52bf6a14f45",
   "metadata": {},
   "outputs": [],
   "source": [
    "def convert_score_to_grade(score):\n",
    "    if score < 60:\n",
    "        return '不合格'\n",
    "    elif score < 75:\n",
    "        return '合格'\n",
    "    elif score < 90:\n",
    "        return '良好'\n",
    "    else:\n",
    "        return '优秀'\n",
    "\n",
    "scores = [59, 65, 85, 90, 45]\n",
    "for score in scores:\n",
    "    print(f\"成绩 {score} 分对应的等级是：{convert_score_to_grade(score)}\")"
   ]
  },
  {
   "cell_type": "markdown",
   "id": "e0ec7c11-cafd-4eb5-a31f-3f7bb940d2ad",
   "metadata": {},
   "source": [
    "3.编写Python程序，完成十进制小数到二进制小数的转换"
   ]
  },
  {
   "cell_type": "code",
   "execution_count": null,
   "id": "ea8e6bd6-765e-410a-9df6-2b8e674dd13e",
   "metadata": {},
   "outputs": [],
   "source": [
    "def decimal_to_binary(decimal):\n",
    "    binary = ''\n",
    "    while decimal > 0:\n",
    "        decimal, bit = divmod(decimal, 2)\n",
    "        binary = str(bit) + binary\n",
    "    return binary or '0'\n",
    "\n",
    "decimal_number = 0.625\n",
    "binary_number = decimal_to_binary(decimal_number)\n",
    "print(f\"十进制小数 {decimal_number} 转换为二进制小数是：{binary_number}\")"
   ]
  },
  {
   "cell_type": "markdown",
   "id": "194bf7da-9676-4e3c-bf03-f142be3339cd",
   "metadata": {},
   "source": [
    "\n",
    "4. 编写Python程序，产生10-20的随机浮点数"
   ]
  },
  {
   "cell_type": "code",
   "execution_count": null,
   "id": "1d436087-7e46-45ab-a67b-36c4cb273ff3",
   "metadata": {},
   "outputs": [],
   "source": [
    "import random\n",
    "\n",
    "# 生成10到20之间的随机浮点数\n",
    "random_float = random.uniform(10, 20)\n",
    "print(random_float)"
   ]
  },
  {
   "cell_type": "markdown",
   "id": "2690ebe9-dbe9-4bfc-b110-cab5f201c4ff",
   "metadata": {},
   "source": [
    "5. 编写一个Python函数，判断一个整数是否是回文数。回文数是指正序（从左向右）和倒序（从右向左）读都是一样的数。"
   ]
  },
  {
   "cell_type": "code",
   "execution_count": 2,
   "id": "87671a49-cd8a-4157-b1a1-f2c970478580",
   "metadata": {},
   "outputs": [
    {
     "name": "stdout",
     "output_type": "stream",
     "text": [
      "121 是回文数吗？ True\n",
      "-121 是回文数吗？ False\n",
      "123 是回文数吗？ False\n",
      "45654 是回文数吗？ True\n"
     ]
    }
   ],
   "source": [
    "def is_palindrome(number):\n",
    "    # 将整数转换为字符串\n",
    "    str_num = str(number)\n",
    "    # 检查字符串是否与其反转相同\n",
    "    return str_num == str_num[::-1]\n",
    "\n",
    "numbers = [121, -121, 123, 45654]\n",
    "for num in numbers:\n",
    "    print(f\"{num} 是回文数吗？ {is_palindrome(num)}\")"
   ]
  },
  {
   "cell_type": "markdown",
   "id": "0037633f-5c5f-40af-be4a-a7a604a855cc",
   "metadata": {},
   "source": [
    "6.编写一个Python函数，返回一个包含斐波那契数列的前N个数的列表。斐波那契数列是一个数列，其中每个数是前两个数的和，数列以0和1开始。"
   ]
  },
  {
   "cell_type": "code",
   "execution_count": 3,
   "id": "be56a3f6-eab5-4214-a568-5d5cd3aa771c",
   "metadata": {},
   "outputs": [
    {
     "name": "stdout",
     "output_type": "stream",
     "text": [
      "[0, 1, 1, 2, 3, 5, 8, 13, 21, 34]\n"
     ]
    }
   ],
   "source": [
    "def fibonacci(n):\n",
    "    # 初始化斐波那契数列的前两个数\n",
    "    fib_sequence = [0, 1]\n",
    "    # 如果请求的数列长度小于或等于2，直接返回\n",
    "    if n <= 2:\n",
    "        return fib_sequence[:n]\n",
    "    # 生成斐波那契数列\n",
    "    for i in range(2, n):\n",
    "        # 每个数是前两个数的和\n",
    "        next_number = fib_sequence[-1] + fib_sequence[-2]\n",
    "        fib_sequence.append(next_number)\n",
    "    return fib_sequence\n",
    "\n",
    "n = 10\n",
    "print(fibonacci(n))"
   ]
  },
  {
   "cell_type": "markdown",
   "id": "c26d83c8-8ad1-4764-bc46-ac593c219e75",
   "metadata": {},
   "source": [
    "7.编写一个Python函数，接受一个整数数组作为输入，返回数组中第二大的数。如果数组中只有一个元素或数组为空，则返回-1。"
   ]
  },
  {
   "cell_type": "code",
   "execution_count": 7,
   "id": "265e02d5-5957-443b-ba6e-618260c0a935",
   "metadata": {},
   "outputs": [
    {
     "name": "stdout",
     "output_type": "stream",
     "text": [
      "数组 [1, 2, 3, 4, 5] 中第二大的数是：4\n",
      "数组 [3, 3, 2] 中第二大的数是：2\n"
     ]
    }
   ],
   "source": [
    "def find_second_largest(nums):\n",
    "    # 如果数组为空或只有一个元素，返回-1\n",
    "    if len(nums) < 2:\n",
    "        return -1\n",
    "    # 初始化两个变量，分别存储最大和第二大的数\n",
    "    largest = second_largest = float('-inf')\n",
    "    # 遍历数组，更新最大和第二大的数\n",
    "    for num in nums:\n",
    "        if num > largest:\n",
    "            second_largest = largest\n",
    "            largest = num\n",
    "        elif num > second_largest and num != largest:\n",
    "            second_largest = num\n",
    "    # 如果第二大的数未被更新，说明数组中不存在第二大的数\n",
    "    if second_largest == float('-inf'):\n",
    "        return -1\n",
    "    return second_largest\n",
    "\n",
    "arrays = [[1, 2, 3, 4, 5],[3, 3, 2]]\n",
    "for arr in arrays:\n",
    "    print(f\"数组 {arr} 中第二大的数是：{find_second_largest(arr)}\")"
   ]
  },
  {
   "cell_type": "markdown",
   "id": "870253b8-7881-4336-9caf-23c7e228c298",
   "metadata": {},
   "source": [
    "8. 编写一个函数，使其能够用正则表达式的方式简单验证身份证号是否合法。"
   ]
  },
  {
   "cell_type": "code",
   "execution_count": 8,
   "id": "791d7766-a7cc-4c03-a1e4-0fcd5341c10e",
   "metadata": {},
   "outputs": [
    {
     "name": "stdout",
     "output_type": "stream",
     "text": [
      "身份证号 11010519491231002X 是否合法？ True\n",
      "身份证号 123456789012345 是否合法？ False\n",
      "身份证号 11010519491231002X1 是否合法？ False\n",
      "身份证号 11010519491231002 是否合法？ False\n"
     ]
    }
   ],
   "source": [
    "import re\n",
    "def validate_id_card(id_card):\n",
    "    # 正则表达式模式\n",
    "    pattern = r'^[1-9]\\d{5}(19|20)\\d{2}(0[1-9]|1[0-2])(0[1-9]|[1-2]\\d|3[0-1])\\d{3}(\\d|X|x)$'\n",
    "    \n",
    "    # 使用正则表达式匹配身份证号\n",
    "    if re.match(pattern, id_card):\n",
    "        return True\n",
    "    else:\n",
    "        return False\n",
    "        \n",
    "id_cards = [\"11010519491231002X\", \"123456789012345\", \"11010519491231002X1\", \"11010519491231002\"]\n",
    "for card in id_cards:\n",
    "    print(f\"身份证号 {card} 是否合法？ {validate_id_card(card)}\")"
   ]
  },
  {
   "cell_type": "code",
   "execution_count": null,
   "id": "8f4e6661-285a-4466-8213-bcf34400d4bc",
   "metadata": {},
   "outputs": [],
   "source": []
  }
 ],
 "metadata": {
  "kernelspec": {
   "display_name": "Python 3 (ipykernel)",
   "language": "python",
   "name": "python3"
  },
  "language_info": {
   "codemirror_mode": {
    "name": "ipython",
    "version": 3
   },
   "file_extension": ".py",
   "mimetype": "text/x-python",
   "name": "python",
   "nbconvert_exporter": "python",
   "pygments_lexer": "ipython3",
   "version": "3.11.7"
  }
 },
 "nbformat": 4,
 "nbformat_minor": 5
}
