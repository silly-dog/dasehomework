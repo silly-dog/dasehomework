{
 "cells": [
  {
   "cell_type": "markdown",
   "id": "094e2165-8453-488f-8121-58297d4fbd47",
   "metadata": {},
   "source": [
    "所有的题目结果中，给出SQL语句和执行结果。"
   ]
  },
  {
   "cell_type": "markdown",
   "id": "cc938398-e343-4726-9c29-3bbb6ded474f",
   "metadata": {},
   "source": [
    "\n",
    "1、在新数据库中新建一张 user 表,插入几条数据,属性包含:唯一标识(id),姓名(name)性别(sex).年龄(age).联系方式(phone)，数据如下：\n",
    "\n",
    "('John Doe', 'Male', 25, '123-456-7890')\n",
    "\n",
    "('Jane Smith', 'Female', 31, '987-654-3210')\n",
    "\n",
    "('Bob Johnson', 'Male', 22, '555-123-4567')"
   ]
  },
  {
   "cell_type": "code",
   "execution_count": null,
   "id": "9c804b92-6c32-4bc5-a6d0-34ba16f27d37",
   "metadata": {},
   "outputs": [],
   "source": [
    "mysql> CREATE DATABASE my_database;\n",
    "Query OK, 1 row affected (0.01 sec)\n",
    "\n",
    "mysql> USE my_database;\n",
    "Database changed\n",
    "mysql> CREATE TABLE user (\n",
    "    ->     id INT AUTO_INCREMENT PRIMARY KEY,\n",
    "    ->     name VARCHAR(50),\n",
    "    ->     sex VARCHAR(10),\n",
    "    ->     age INT,\n",
    "    ->     phone VARCHAR(15)\n",
    "    -> );\n",
    "Query OK, 0 rows affected (0.01 sec)\n",
    "\n",
    "mysql> INSERT INTO user (name, sex, age, phone) VALUES\n",
    "    -> ('John Doe', 'Male', 25, '123-456-7890'),\n",
    "    -> ('Jane Smith', 'Female', 31, '987-654-3210'),\n",
    "    -> ('Bob Johnson', 'Male', 22, '555-123-4567');\n",
    "Query OK, 3 rows affected (0.00 sec)\n",
    "Records: 3  Duplicates: 0  Warnings: 0"
   ]
  },
  {
   "cell_type": "markdown",
   "id": "9f438f07-1eed-4e6e-a7da-9e5eca8432d7",
   "metadata": {},
   "source": [
    "2、写出 SQL语句,查询 user 表中所有年龄在 20-30 范围内的用户"
   ]
  },
  {
   "cell_type": "code",
   "execution_count": null,
   "id": "49e937ef-b2f2-4dff-ba87-a2a5d94b8140",
   "metadata": {},
   "outputs": [],
   "source": [
    "mysql> SELECT * FROM user WHERE age BETWEEN 20 AND 30;\n",
    "+----+-------------+------+------+--------------+\n",
    "| id | name        | sex  | age  | phone        |\n",
    "+----+-------------+------+------+--------------+\n",
    "|  1 | John Doe    | Male |   25 | 123-456-7890 |\n",
    "|  3 | Bob Johnson | Male |   22 | 555-123-4567 |\n",
    "+----+-------------+------+------+--------------+\n",
    "2 rows in set (0.00 sec)"
   ]
  },
  {
   "cell_type": "markdown",
   "id": "14255f8a-b7f0-4f2f-acec-f20abc0d934a",
   "metadata": {},
   "source": [
    "3、写出SQL语句，向user表中添加自己的个人信息，并添加几条和你姓名同姓的虚拟信息。"
   ]
  },
  {
   "cell_type": "code",
   "execution_count": null,
   "id": "0d3ee76e-8d5f-463a-a718-4d30bbddc91c",
   "metadata": {},
   "outputs": [],
   "source": [
    "mysql> INSERT INTO user (name, sex, age, phone) VALUES\n",
    "    -> ('张三', 'Male', 28, '111-222-3333'),\n",
    "    -> ('张四', 'Female', 26, '444-555-6666'),\n",
    "    -> ('张五', 'Male', 24, '777-888-9999');\n",
    "Query OK, 3 rows affected (0.00 sec)\n",
    "Records: 3  Duplicates: 0  Warnings: 0"
   ]
  },
  {
   "cell_type": "markdown",
   "id": "409c7d38-9cf4-4d96-b619-0d4cb9d0f3b8",
   "metadata": {},
   "source": [
    "4、写出 SQL语句,查询 user 表中年龄在 20-30 范围内,名字包含“你的姓氏”的用户,并按照年龄从大到小排序输出"
   ]
  },
  {
   "cell_type": "code",
   "execution_count": null,
   "id": "4ad47405-b385-4359-babb-a1140a0466ed",
   "metadata": {},
   "outputs": [],
   "source": [
    "mysql> SELECT * FROM user WHERE age BETWEEN 20 AND 30 AND name LIKE '张%' ORDER BY age DESC;\n",
    "+----+--------+--------+------+--------------+\n",
    "| id | name   | sex    | age  | phone        |\n",
    "+----+--------+--------+------+--------------+\n",
    "|  4 | 张三   | Male   |   28 | 111-222-3333 |\n",
    "|  5 | 张四   | Female |   26 | 444-555-6666 |\n",
    "|  6 | 张五   | Male   |   24 | 777-888-9999 |\n",
    "+----+--------+--------+------+--------------+\n",
    "3 rows in set (0.00 sec)"
   ]
  },
  {
   "cell_type": "markdown",
   "id": "2393c73a-0fff-434f-910d-3f6001fa2884",
   "metadata": {},
   "source": [
    "5、写出 SQL 语句,计算 user 表中所有用户的平均年龄"
   ]
  },
  {
   "cell_type": "code",
   "execution_count": null,
   "id": "33b8ee63-a865-43d3-bdb3-e83f76c05f4b",
   "metadata": {},
   "outputs": [],
   "source": [
    "mysql> SELECT AVG(age) AS average_age FROM user;\n",
    "+-------------+\n",
    "| average_age |\n",
    "+-------------+\n",
    "|     26.0000 |\n",
    "+-------------+\n",
    "1 row in set (0.00 sec)"
   ]
  },
  {
   "cell_type": "markdown",
   "id": "ddd43497-a5a4-457e-a04e-7852f53e0475",
   "metadata": {},
   "source": [
    "6、新建两张表team 表(id,teamName)和score 表(id,teamid,userid,score)。其中score 表中的 teamid 为指向 team表id 的外键，userid 为指向 user表id的外键"
   ]
  },
  {
   "cell_type": "code",
   "execution_count": null,
   "id": "2a2bb292-ec95-4cc7-9815-032d37fdc0ac",
   "metadata": {},
   "outputs": [],
   "source": [
    "mysql> CREATE TABLE team (\n",
    "    ->     id INT AUTO_INCREMENT PRIMARY KEY,\n",
    "    ->     teamName VARCHAR(50)\n",
    "    -> );\n",
    "Query OK, 0 rows affected (0.01 sec)\n",
    "\n",
    "mysql> CREATE TABLE score (\n",
    "    ->     id INT AUTO_INCREMENT PRIMARY KEY,\n",
    "    ->     teamid INT,\n",
    "    ->     userid INT,\n",
    "    ->     score INT,\n",
    "    ->     FOREIGN KEY (teamid) REFERENCES team(id),\n",
    "    ->     FOREIGN KEY (userid) REFERENCES user(id)\n",
    "    -> );\n",
    "Query OK, 0 rows affected (0.02 sec)"
   ]
  },
  {
   "cell_type": "markdown",
   "id": "c4ac5a19-8a0f-4351-93bc-6dcf497be72b",
   "metadata": {},
   "source": [
    "7、在team表中和score表中插入合适的记录，写出 SQL语句,查询 teamName 为“ECNU”的队伍中，年龄小于 20 的用户们，结果不得为空。"
   ]
  },
  {
   "cell_type": "code",
   "execution_count": null,
   "id": "197e24ba-c6d5-4bb5-8f18-b941569f9846",
   "metadata": {},
   "outputs": [],
   "source": [
    "mysql> INSERT INTO team (teamName) VALUES ('ECNU');\n",
    "Query OK, 1 row affected (0.00 sec)\n",
    "\n",
    "mysql> INSERT INTO score (teamid, userid, score) VALUES\n",
    "    -> (1, 1, 50),  -- John Doe\n",
    "    -> (1, 2, 60);  -- Jane Smith\n",
    "Query OK, 2 rows affected (0.00 sec)\n",
    "Records: 2  Duplicates: 0  Warnings: 0\n",
    "\n",
    "mysql> SELECT * FROM user\n",
    "    -> WHERE id IN (SELECT userid FROM score WHERE teamid = (SELECT id FROM team WHERE teamName = 'ECNU'))\n",
    "    -> AND age < 20;\n",
    "Empty set (0.00 sec)"
   ]
  },
  {
   "cell_type": "markdown",
   "id": "a19b2293-e8f2-493a-9540-06baf560747e",
   "metadata": {},
   "source": [
    "8、写出 SQL 语句,计算 teamName为“ECNU”的总分(假设 score 存在 null值,nul值默认为 0 加入计算)。"
   ]
  },
  {
   "cell_type": "code",
   "execution_count": null,
   "id": "95317cb6-97c7-47b3-a86d-74fe2e98c9a8",
   "metadata": {},
   "outputs": [],
   "source": [
    "mysql> SELECT SUM(COALESCE(score, 0)) AS total_score FROM score\n",
    "    -> WHERE teamid = (SELECT id FROM team WHERE teamName = 'ECNU');\n",
    "+-------------+\n",
    "| total_score |\n",
    "+-------------+\n",
    "|         110 |\n",
    "+-------------+\n",
    "1 row in set (0.00 sec)"
   ]
  },
  {
   "cell_type": "markdown",
   "id": "12f61d71-fedd-489e-97ac-bac87d4c4581",
   "metadata": {},
   "source": [
    "9、写出SQL语句，删除user表中个人信息的记录。"
   ]
  },
  {
   "cell_type": "code",
   "execution_count": null,
   "id": "702fd012-1188-4b07-a368-0d648152f852",
   "metadata": {},
   "outputs": [],
   "source": [
    "mysql> DELETE FROM user WHERE id = YOUR_USER_ID;"
   ]
  }
 ],
 "metadata": {
  "kernelspec": {
   "display_name": "Python 3 (ipykernel)",
   "language": "python",
   "name": "python3"
  },
  "language_info": {
   "codemirror_mode": {
    "name": "ipython",
    "version": 3
   },
   "file_extension": ".py",
   "mimetype": "text/x-python",
   "name": "python",
   "nbconvert_exporter": "python",
   "pygments_lexer": "ipython3",
   "version": "3.11.7"
  }
 },
 "nbformat": 4,
 "nbformat_minor": 5
}
